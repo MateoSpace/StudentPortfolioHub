{
 "cells": [
  {
   "cell_type": "code",
   "execution_count": 1,
   "metadata": {},
   "outputs": [
    {
     "name": "stdout",
     "output_type": "stream",
     "text": [
      "++++++++++++++++ Funcion ingresada ++++++++++++++++\n"
     ]
    },
    {
     "data": {
      "text/latex": [
       "$\\displaystyle \\begin{cases} - 0.5 t & \\text{for}\\: t > 0 \\wedge t < 1 \\\\0.4 t^{2} & \\text{for}\\: t > 1 \\wedge t < 2 \\end{cases}$"
      ],
      "text/plain": [
       "Piecewise((-0.5*t, (t > 0) & (t < 1)), (0.4*t**2, (t > 1) & (t < 2)))"
      ]
     },
     "metadata": {},
     "output_type": "display_data"
    },
    {
     "data": {
      "text/plain": [
       "'integral_Co = '"
      ]
     },
     "metadata": {},
     "output_type": "display_data"
    },
    {
     "data": {
      "text/latex": [
       "$\\displaystyle -0.25$"
      ],
      "text/plain": [
       "-0.250000000000000"
      ]
     },
     "metadata": {},
     "output_type": "display_data"
    },
    {
     "data": {
      "text/plain": [
       "' integral_Cn = '"
      ]
     },
     "metadata": {},
     "output_type": "display_data"
    },
    {
     "data": {
      "text/latex": [
       "$\\displaystyle - \\frac{1.0 \\cdot \\left(0.5 i \\pi n + 0.5\\right) e^{- i \\pi n}}{\\pi^{2} n^{2}} + \\frac{0.5}{\\pi^{2} n^{2}}$"
      ],
      "text/plain": [
       "-1.0*(0.5*I*pi*n + 0.5)*exp(-I*pi*n)/(pi**2*n**2) + 0.5/(pi**2*n**2)"
      ]
     },
     "metadata": {},
     "output_type": "display_data"
    },
    {
     "data": {
      "text/plain": [
       "'integral_Co = '"
      ]
     },
     "metadata": {},
     "output_type": "display_data"
    },
    {
     "data": {
      "text/latex": [
       "$\\displaystyle 0.683333333333333$"
      ],
      "text/plain": [
       "0.683333333333333"
      ]
     },
     "metadata": {},
     "output_type": "display_data"
    },
    {
     "data": {
      "text/plain": [
       "' integral_Cn = '"
      ]
     },
     "metadata": {},
     "output_type": "display_data"
    },
    {
     "data": {
      "text/latex": [
       "$\\displaystyle - \\frac{1.0 \\left(-1\\right)^{n} \\left(0.5 i \\pi n + 0.5\\right)}{\\pi^{2} n^{2}} + \\frac{0.5}{\\pi^{2} n^{2}} - \\frac{1.0 \\left(- 1.6 i \\pi^{2} n^{2} - 1.6 \\pi n + 0.8 i\\right) e^{- 2 i \\pi n}}{\\pi^{3} n^{3}} + \\frac{1.0 \\left(- 0.4 i \\pi^{2} n^{2} - 0.8 \\pi n + 0.8 i\\right) e^{- i \\pi n}}{\\pi^{3} n^{3}}$"
      ],
      "text/plain": [
       "-1.0*(-1)**n*(0.5*I*pi*n + 0.5)/(pi**2*n**2) + 0.5/(pi**2*n**2) - 1.0*(-1.6*I*pi**2*n**2 - 1.6*pi*n + 0.8*I)*exp(-2*I*pi*n)/(pi**3*n**3) + 1.0*(-0.4*I*pi**2*n**2 - 0.8*pi*n + 0.8*I)*exp(-I*pi*n)/(pi**3*n**3)"
      ]
     },
     "metadata": {},
     "output_type": "display_data"
    },
    {
     "data": {
      "text/plain": [
       "'Co'"
      ]
     },
     "metadata": {},
     "output_type": "display_data"
    },
    {
     "data": {
      "text/latex": [
       "$\\displaystyle 0.341666666666667$"
      ],
      "text/plain": [
       "0.341666666666667"
      ]
     },
     "metadata": {},
     "output_type": "display_data"
    },
    {
     "data": {
      "text/plain": [
       "'Cn'"
      ]
     },
     "metadata": {},
     "output_type": "display_data"
    },
    {
     "data": {
      "text/latex": [
       "$\\displaystyle - \\frac{0.5 \\left(-1\\right)^{n} \\left(0.5 i \\pi n + 0.5\\right)}{\\pi^{2} n^{2}} + \\frac{0.5 \\left(-1\\right)^{n} \\left(- 0.4 i \\pi^{2} n^{2} - 0.8 \\pi n + 0.8 i\\right)}{\\pi^{3} n^{3}} + \\frac{0.25}{\\pi^{2} n^{2}} - \\frac{0.5 \\left(- 1.6 i \\pi^{2} n^{2} - 1.6 \\pi n + 0.8 i\\right)}{\\pi^{3} n^{3}}$"
      ],
      "text/plain": [
       "-0.5*(-1)**n*(0.5*I*pi*n + 0.5)/(pi**2*n**2) + 0.5*(-1)**n*(-0.4*I*pi**2*n**2 - 0.8*pi*n + 0.8*I)/(pi**3*n**3) + 0.25/(pi**2*n**2) - 0.5*(-1.6*I*pi**2*n**2 - 1.6*pi*n + 0.8*I)/(pi**3*n**3)"
      ]
     },
     "metadata": {},
     "output_type": "display_data"
    },
    {
     "data": {
      "text/plain": [
       "'Cn_real'"
      ]
     },
     "metadata": {},
     "output_type": "display_data"
    },
    {
     "data": {
      "text/latex": [
       "$\\displaystyle - \\frac{0.45 \\sin{\\left(\\pi n \\right)}}{\\pi n} + \\frac{0.8 \\sin{\\left(2 \\pi n \\right)}}{\\pi n} - \\frac{0.65 \\cos{\\left(\\pi n \\right)}}{\\pi^{2} n^{2}} + \\frac{0.8 \\cos{\\left(2 \\pi n \\right)}}{\\pi^{2} n^{2}} + \\frac{0.25}{\\pi^{2} n^{2}} + \\frac{0.4 \\sin{\\left(\\pi n \\right)}}{\\pi^{3} n^{3}} - \\frac{0.4 \\sin{\\left(2 \\pi n \\right)}}{\\pi^{3} n^{3}}$"
      ],
      "text/plain": [
       "-0.45*sin(pi*n)/(pi*n) + 0.8*sin(2*pi*n)/(pi*n) - 0.65*cos(pi*n)/(pi**2*n**2) + 0.8*cos(2*pi*n)/(pi**2*n**2) + 0.25/(pi**2*n**2) + 0.4*sin(pi*n)/(pi**3*n**3) - 0.4*sin(2*pi*n)/(pi**3*n**3)"
      ]
     },
     "metadata": {},
     "output_type": "display_data"
    },
    {
     "data": {
      "text/plain": [
       "'Cn_imag'"
      ]
     },
     "metadata": {},
     "output_type": "display_data"
    },
    {
     "data": {
      "text/latex": [
       "$\\displaystyle - \\frac{0.45 \\cos{\\left(\\pi n \\right)}}{\\pi n} + \\frac{0.8 \\cos{\\left(2 \\pi n \\right)}}{\\pi n} + \\frac{0.65 \\sin{\\left(\\pi n \\right)}}{\\pi^{2} n^{2}} - \\frac{0.8 \\sin{\\left(2 \\pi n \\right)}}{\\pi^{2} n^{2}} + \\frac{0.4 \\cos{\\left(\\pi n \\right)}}{\\pi^{3} n^{3}} - \\frac{0.4 \\cos{\\left(2 \\pi n \\right)}}{\\pi^{3} n^{3}}$"
      ],
      "text/plain": [
       "-0.45*cos(pi*n)/(pi*n) + 0.8*cos(2*pi*n)/(pi*n) + 0.65*sin(pi*n)/(pi**2*n**2) - 0.8*sin(2*pi*n)/(pi**2*n**2) + 0.4*cos(pi*n)/(pi**3*n**3) - 0.4*cos(2*pi*n)/(pi**3*n**3)"
      ]
     },
     "metadata": {},
     "output_type": "display_data"
    },
    {
     "name": "stdout",
     "output_type": "stream",
     "text": [
      "n_values  [-6. -5. -4. -3. -2. -1.  0.  1.  2.  3.  4.  5.  6.]\n",
      "y_values_funcion1  [0.01860217399480276, 0.07966953835306646, 0.02796706189736109, 0.133057113709974, 0.05661820441866237, 0.41002045923433034, 0.341666666666667, 0.41002045923433034, 0.05661820441866237, 0.133057113709974, 0.02796706189736109, 0.07966953835306646, 0.01860217399480276]\n",
      "y_values_funcion2  [-1.5102400024166718, -1.4842079310962255, -1.4801001487812555, -1.4264593611351346, -1.390871988014423, -1.1372504427974353, 0, 1.1372504427974353, 1.390871988014423, 1.4264593611351346, 1.4801001487812555, 1.4842079310962255, 1.5102400024166718]\n"
     ]
    },
    {
     "data": {
      "image/png": "[encoded data removed]",
      "text/plain": [
       "<Figure size 800x600 with 2 Axes>"
      ]
     },
     "metadata": {},
     "output_type": "display_data"
    }
   ],
   "source": [
    "import sympy as sp\n",
    "import matplotlib.pyplot as plt\n",
    "import numpy as np\n",
    "\n",
    "def aplicar_equivalencias(expresion):\n",
    "    t = sp.symbols(\"t\")\n",
    "    n = sp.symbols(\"n\")\n",
    "\n",
    "    equivalencias = {\n",
    "        sp.sin(sp.pi * n): 0,\n",
    "        sp.cos(sp.pi * n): (-1)**n,\n",
    "        sp.sin(2 * sp.pi * n): 0,\n",
    "        sp.cos(2 * sp.pi * n): 1,\n",
    "        sp.E**(-2 * sp.I * n * sp.pi ): 1,\n",
    "        sp.E**(2 * sp.I * n * sp.pi ): 1,\n",
    "        sp.E**(-sp.I * n * sp.pi ): (-1)**n,\n",
    "        sp.E**(sp.I * n * sp.pi ): (-1)**n\n",
    "    }\n",
    "    for eq, val in equivalencias.items():\n",
    "        expresion = expresion.subs(eq, val)\n",
    "    return expresion\n",
    "\n",
    "def ingresar_funcion_a_trozos():\n",
    "    t = sp.symbols(\"t\")\n",
    "    print(\"Ingrese las ecuaciones en términos de 't'. Presione Enter para finalizar.\")\n",
    "\n",
    "    expresiones_condiciones = []\n",
    "    menor_limite = float('inf')\n",
    "    mayor_limite = float('-inf')\n",
    "\n",
    "    while True:\n",
    "        ecuacion = input(\"\\nIngrese una ecuación (en términos de t): \")\n",
    "        if not ecuacion:\n",
    "            break\n",
    "\n",
    "        try:\n",
    "            print(\"Ingrese los límites de integración de la ecuación anterior\")\n",
    "            limite_inferior = float(input(\"Ingrese el límite inferior: \"))\n",
    "            limite_superior = float(input(\"Ingrese el límite superior: \"))\n",
    "\n",
    "            menor_limite = min(menor_limite, limite_inferior)\n",
    "            mayor_limite = max(mayor_limite, limite_superior)\n",
    "\n",
    "            expresion = sp.sympify(ecuacion)\n",
    "            condicion = (limite_inferior <= sp.Symbol('t')) & (sp.Symbol('t') <= limite_superior)\n",
    "            expresiones_condiciones.append((expresion, condicion))\n",
    "\n",
    "        except sp.SympifyError:\n",
    "            print(\"Error: No se pudo parsear la ecuación.\")\n",
    "\n",
    "    funcion_trozos = sp.Piecewise(*expresiones_condiciones)\n",
    "    return funcion_trozos, menor_limite, mayor_limite\n",
    "\n",
    "def hallar_coeficientes(funcion_original, menor_limite, mayor_limite):\n",
    "    t = sp.symbols('t')\n",
    "    n = sp.symbols(\"n\", domain='N')\n",
    "    T = abs(menor_limite - mayor_limite)\n",
    "    w = (2 * sp.pi) / T\n",
    "\n",
    "    integral_ao = sp.sympify(0)\n",
    "    integral_an = sp.sympify(0)\n",
    "    integral_bn = sp.sympify(0)\n",
    "\n",
    "    for expr, cond in funcion_original.args:\n",
    "        inecuaciones = cond.args\n",
    "        a = float('inf')\n",
    "        b = float('-inf')\n",
    "        for i in  range(0,len(inecuaciones),1):\n",
    "            if isinstance(inecuaciones[i].args[1], sp.Lt) or isinstance(inecuaciones[i].args[1], sp.Le) or isinstance(inecuaciones[i].args[1], sp.Gt) or isinstance(inecuaciones[i].args[1], sp.Ge):\n",
    "                a = min(a, inecuaciones[i].args[1].args[1])\n",
    "                b = max(b, inecuaciones[i].args[1].args[1])\n",
    "            else:\n",
    "                a = min(a, inecuaciones[i].args[1])\n",
    "                b = max(b, inecuaciones[i].args[1])\n",
    "            #print(\"a = \",a,\"  b = \",b)\n",
    "\n",
    "        integral_ao = integral_ao + (sp.integrate(expr, (t, a, b)))\n",
    "        integral_an = integral_an + (sp.integrate(sp.sympify(expr * sp.cos(n * w * t)), (t, a, b))).args[0][0] \n",
    "        integral_bn = integral_bn + (sp.integrate(sp.sympify(expr * sp.sin(n * w * t)), (t, a, b))).args[0][0] \n",
    "\n",
    "    return integral_ao*(2/T), integral_an*(2/T), integral_bn*(2/T)\n",
    "\n",
    "def hallar_serie_Fourier(funcion_a_trozos, menor_limite, mayor_limite, nmax):\n",
    "    t = sp.symbols('t')\n",
    "    n = sp.symbols(\"n\")\n",
    "    T = abs(menor_limite - mayor_limite)\n",
    "    w = (2 * sp.pi) / T\n",
    "    ao, an, bn = hallar_coeficientes(funcion_a_trozos, menor_limite, mayor_limite)\n",
    "\n",
    "    print(\"\\n----------- Ao ----------- \")\n",
    "    display(ao)\n",
    "    print(\"\\n----------- An ----------- \")\n",
    "    display(an)\n",
    "    print(\"\\n----------- Bn ----------- \")\n",
    "    display(bn)\n",
    "\n",
    "\n",
    "    serie_Fourier = ao/2 + sp.summation(an*sp.cos(n*w*t) + bn*sp.sin(n*w*t), (n, 1, nmax))\n",
    "    return serie_Fourier\n",
    "\n",
    "def hallar_coeficientes_espectros_discretos(funcion_original, menor_limite, mayor_limite):\n",
    "    t = sp.symbols('t')\n",
    "    n = sp.symbols(\"n\")\n",
    "    T = abs(menor_limite - mayor_limite)\n",
    "    w = (2 * sp.pi) / T\n",
    "\n",
    "    integral_Co = sp.sympify(0)\n",
    "    integral_Cn = sp.sympify(0)\n",
    "\n",
    "    for expr, cond in funcion_original.args:\n",
    "        inecuaciones = cond.args\n",
    "        a = float('inf')\n",
    "        b = float('-inf')\n",
    "        for i in  range(0,len(inecuaciones),1):\n",
    "            if isinstance(inecuaciones[i].args[1], sp.Lt) or isinstance(inecuaciones[i].args[1], sp.Le) or isinstance(inecuaciones[i].args[1], sp.Gt) or isinstance(inecuaciones[i].args[1], sp.Ge):\n",
    "                a = min(a, inecuaciones[i].args[1].args[1])\n",
    "                b = max(b, inecuaciones[i].args[1].args[1])\n",
    "            else:\n",
    "                a = min(a, inecuaciones[i].args[1])\n",
    "                b = max(b, inecuaciones[i].args[1])\n",
    "            #print(\"a = \",a,\"  b = \",b)\n",
    "\n",
    "        if a < b:\n",
    "            integral_Co = integral_Co + (sp.integrate(expr, (t, a, b)))\n",
    "            integral_Cn = integral_Cn + (sp.integrate(sp.sympify(expr * sp.E**(-sp.I * n * w * t)), (t, a, b))).args[0][0] \n",
    "\n",
    "        display (\"integral_Co = \",integral_Co,\" integral_Cn = \",integral_Cn)\n",
    "\n",
    "        integral_Co = aplicar_equivalencias(integral_Co)\n",
    "        integral_Cn = aplicar_equivalencias(integral_Cn)\n",
    "\n",
    "    ao, an, bn = hallar_coeficientes(funcion_original, menor_limite, mayor_limite)\n",
    "\n",
    "    #display(\"an \",an,\"bn \",  bn)\n",
    "\n",
    "    Cn_real = (1/2)*(an)\n",
    "    Cn_imag = (1/2)*(-bn)\n",
    "\n",
    "    return sp.sympify(integral_Co/T), sp.sympify(integral_Cn/T), sp.sympify(Cn_real), sp.sympify(Cn_imag)\n",
    "\n",
    "def graficar_discretos_espectro_magnitud_fase(n_inicio, n_fin, num_puntos, Cn_real, Cn_imag, Co):\n",
    "    n = sp.symbols('n')\n",
    "\n",
    "    # Definir las funciones como lambdify\n",
    "    funcion1 = sp.lambdify(n, sp.sqrt(Cn_real**2 + Cn_imag**2), 'numpy')\n",
    "    funcion2 = sp.lambdify(n, sp.atan(Cn_imag/Cn_real), 'numpy')\n",
    "\n",
    "    # Crear una figura con dos subgráficos\n",
    "    fig, (ax1, ax2) = plt.subplots(2, 1, figsize=(8, 6))\n",
    "\n",
    "    # Calcular valores de n\n",
    "    n_values = np.linspace(n_inicio, n_fin, num_puntos)\n",
    "\n",
    "    print(\"n_values \", n_values)\n",
    "    \n",
    "    # Calcular valores de y para cada función\n",
    "    y_values_funcion1 = [funcion1(valor) if valor != 0 else Co for valor in n_values]\n",
    "\n",
    "    y_values_funcion2 = []\n",
    "    for valor in n_values:\n",
    "        if valor <= -1 or valor >= 1:\n",
    "            if Cn_real.subs(n, valor) != 0:\n",
    "                y_values_funcion2.append(funcion2(valor))\n",
    "            else:\n",
    "                y_values_funcion2.append(sp.pi/2 if valor >= 0 else -sp.pi/2)\n",
    "        else:\n",
    "            y_values_funcion2.append(0)\n",
    "\n",
    "    print(\"y_values_funcion1 \", y_values_funcion1)\n",
    "    print(\"y_values_funcion2 \", y_values_funcion2)\n",
    "\n",
    "    # Graficar la primera función en el primer subgráfico\n",
    "    ax1.plot(n_values, y_values_funcion1, color='blue', label='Función 1', marker='o')\n",
    "    ax1.set_xlabel('n')\n",
    "    ax1.set_ylabel('f(n)')\n",
    "    ax1.set_title('Gráfico de la magnitud')\n",
    "    ax1.grid(True)\n",
    "    ax1.legend()\n",
    "\n",
    "    # Añadir la altura numérica de cada punto en la gráfica de la Función 1\n",
    "    for i, (x, y) in enumerate(zip(n_values, y_values_funcion1)):\n",
    "        ax1.text(x, y, f'{y:.2f}', ha='center', va='bottom', fontsize=8, color='black')\n",
    "\n",
    "    # Graficar la segunda función en el segundo subgráfico\n",
    "    ax2.plot(n_values, y_values_funcion2, color='red', label='Función 2', marker='o')\n",
    "    ax2.set_xlabel('n')\n",
    "    ax2.set_ylabel('f(n)')\n",
    "    ax2.set_title('Gráfico de fase')\n",
    "    ax2.grid(True)\n",
    "    ax2.legend()\n",
    "\n",
    "    # Añadir la altura numérica de cada punto en la gráfica de la Función 2\n",
    "    for i, (x, y) in enumerate(zip(n_values, y_values_funcion2)):\n",
    "        ax2.text(x, y, f'{y:.2f}', ha='center', va='bottom', fontsize=8, color='black')\n",
    "\n",
    "    # Ajustar diseño de la figura\n",
    "    plt.tight_layout()\n",
    "    plt.show()\n",
    "\n",
    "def graficar_funciones(t_inicio, t_fin, num_puntos, funcion1, funcion2):\n",
    "    t = sp.symbols('t')\n",
    "\n",
    "    funcion1_np = np.vectorize(lambda t_val: funcion1.subs(t, t_val))\n",
    "    funcion2_np = np.vectorize(lambda t_val: funcion2.subs(t, t_val))\n",
    "\n",
    "    t_values = np.linspace(t_inicio, t_fin, num_puntos)\n",
    "\n",
    "    y_values_funcion1 = funcion1_np(t_values)\n",
    "    y_values_funcion2 = funcion2_np(t_values)\n",
    "\n",
    "    plt.plot(t_values, y_values_funcion1, label='Función 1')\n",
    "    plt.plot(t_values, y_values_funcion2, label='Función 2')\n",
    "\n",
    "    plt.xlabel('t')\n",
    "    plt.ylabel('f(t)')\n",
    "    plt.title('Gráfico de dos funciones')\n",
    "    plt.legend()\n",
    "\n",
    "    plt.grid(True)\n",
    "    plt.show()\n",
    "\n",
    "def generar_funcion_par_o_impar(funcion, es_par):\n",
    "    #print(\"ESpar : \",es_par, \" Tipo : \",type(es_par) )\n",
    "\n",
    "    t = sp.symbols('t')\n",
    "    if es_par == \"1\":\n",
    "        funcion_return = funcion.subs(t, -t)\n",
    "    else:\n",
    "        funcion_impar = funcion.subs(t, -t)\n",
    "        funcion_return = sp.sympify(-1 * funcion_impar)\n",
    "    return funcion_return\n",
    "\n",
    "def generar_funcion_a_trozos_par_o_impar(funcion_original, menor_limite, mayor_limite, es_par):\n",
    "    t = sp.symbols('t')\n",
    "    a, b = sp.symbols('a b')\n",
    "\n",
    "    casos_y_condiciones = []\n",
    "    for expr, cond in funcion_original.args:\n",
    "        inecuaciones = cond.args\n",
    "        a = inecuaciones[0].args[1]\n",
    "        b = inecuaciones[1].args[1]\n",
    "        casos_y_condiciones.append((generar_funcion_par_o_impar(expr, es_par),((sp.Symbol('t') <= -b ) & (sp.Symbol('t') >= -a))))\n",
    "\n",
    "    #print(\"casos_y_condiciones \",casos_y_condiciones)\n",
    "\n",
    "    lista_retorno = casos_y_condiciones + list(funcion_original.args)\n",
    "\n",
    "    casos_y_condiciones_retorno = []\n",
    "    for expr, cond in lista_retorno:\n",
    "        inecuaciones = cond.args\n",
    "        a = float('inf')\n",
    "        b = float('-inf')\n",
    "        for i in  range(0,len(inecuaciones),1):\n",
    "            #print(\"a \", a, \"  b \",b,\"inecuaciones[i].args[1] \", inecuaciones[i].args[1])\n",
    "            if isinstance(inecuaciones[i].args[1], sp.Lt) or isinstance(inecuaciones[i].args[1], sp.Le) or isinstance(inecuaciones[i].args[1], sp.Gt) or isinstance(inecuaciones[i].args[1], sp.Ge):\n",
    "                a = min(a, inecuaciones[i].args[1].args[1])\n",
    "                b = max(b, inecuaciones[i].args[1].args[1])\n",
    "            else:\n",
    "                a = min(a, inecuaciones[i].args[1])\n",
    "                b = max(b, inecuaciones[i].args[1])\n",
    "            #print(\"a = \",a,\"  b = \",b)\n",
    "        casos_y_condiciones_retorno.append((expr, ((a <= sp.Symbol('t')) & (sp.Symbol('t') <= b))))\n",
    "\n",
    "    #print(\"casos_y_condiciones_retorno \",casos_y_condiciones_retorno)\n",
    "    distancia_num1 = abs(menor_limite)\n",
    "    distancia_num2 = abs(mayor_limite)\n",
    "\n",
    "    if distancia_num1 > distancia_num2:\n",
    "        return sp.Piecewise(*casos_y_condiciones_retorno), -distancia_num1, distancia_num1\n",
    "    elif distancia_num2 > distancia_num1:\n",
    "        return sp.Piecewise(*casos_y_condiciones_retorno), -distancia_num2, distancia_num2\n",
    "\n",
    "def generar_funcion_media_onda(funcion, desplazamineto):\n",
    "    t = sp.symbols('t')\n",
    "    funcion_return = funcion.subs(t, t-desplazamineto)\n",
    "    funcion_return = sp.sympify(-1 * funcion_return)\n",
    "    return funcion_return\n",
    "\n",
    "def generar_funcion_a_trozos_media_onda(funcion_original, menor_limite, mayor_limite):\n",
    "    t = sp.symbols('t')\n",
    "    a, b = sp.symbols('a b')\n",
    "    \n",
    "    distancia_num1 = abs(menor_limite)\n",
    "    distancia_num2 = abs(mayor_limite)\n",
    "\n",
    "    if distancia_num1 > distancia_num2:\n",
    "        desplazamineto = -abs(mayor_limite-menor_limite)\n",
    "    else:\n",
    "        desplazamineto = abs(mayor_limite-menor_limite)\n",
    "    \n",
    "    #print(\"desplazamineto: \",desplazamineto)\n",
    "\n",
    "    casos_y_condiciones = []\n",
    "    for expr, cond in funcion_original.args:\n",
    "        inecuaciones = cond.args\n",
    "        #print(\"#####\",inecuaciones[0].args[1],\"#####\", inecuaciones[1].args[1])\n",
    "        a = min(inecuaciones[0].args[1], inecuaciones[1].args[1])\n",
    "        b = max(inecuaciones[0].args[1], inecuaciones[1].args[1])\n",
    "        \n",
    "        #print(\"funcion\", generar_funcion_media_onda(expr, desplazamineto),\"a = \",a,\"  b = \",b, \"desplazamineto  \", desplazamineto)\n",
    "        casos_y_condiciones.append((generar_funcion_media_onda(expr, desplazamineto), ((sp.Symbol('t') >= a + desplazamineto) & (sp.Symbol('t') <= b + desplazamineto))))\n",
    "        #print (\"despalzamiento de condiciones: \", sp.sympify(cond.subs(t, t + desplazamineto)))\n",
    "\n",
    "    #casos_y_condiciones_retorno = [(generar_funcion_media_onda(expr, desplazamineto), cond) for expr, cond in casos_y_condiciones]\n",
    "    lista_retorno = casos_y_condiciones + list(funcion_original.args)\n",
    "    #print(\"--------> \",lista_retorno,\"\\n+++++++\", menor_limite,\"\\n+++++++\", mayor_limite)\n",
    "\n",
    "    if distancia_num1 > distancia_num2:\n",
    "        return sp.Piecewise(*lista_retorno), menor_limite + desplazamineto, mayor_limite\n",
    "    else: \n",
    "        return sp.Piecewise(*lista_retorno), menor_limite, mayor_limite + desplazamineto\n",
    "\n",
    "def generar_funcion_a_trozos_cuarto_de_onda(funcion_original, menor_limite, mayor_limite, es_par):\n",
    "    t = sp.symbols('t')\n",
    "    a, b = sp.symbols('a b')\n",
    "\n",
    "    funcion_par_o_impar, menor_limite, mayor_limite = generar_funcion_a_trozos_par_o_impar(funcion_original, menor_limite, mayor_limite, es_par)\n",
    "    #print(\"8888888888  \",funcion_par_o_impar,\"8888888888  \", menor_limite,\"8888888888  \", mayor_limite, es_par)\n",
    "\n",
    "\n",
    "    funcion_return, menor_limite, mayor_limite = generar_funcion_a_trozos_media_onda(funcion_par_o_impar, menor_limite, mayor_limite)\n",
    "    #print(\"8888888888  \",funcion_return,\"8888888888  \", menor_limite,\"8888888888  \", mayor_limite, es_par)\n",
    "\n",
    "    return  funcion_return, menor_limite, mayor_limite\n",
    "\n",
    "def proceso_basico():\n",
    "    t = sp.symbols('t')\n",
    "    n = sp.symbols(\"n\")\n",
    "    \n",
    "    funcion_original = sp.Piecewise((-4*t - 2, (t >= -3.0) & (t <= 1)), (1, (t <= 2.0) & (t >= 1)), (t-2, (t <= 8.0) & (t >= 2.0)))\n",
    "    menor_limite = -3\n",
    "    mayor_limite = 8\n",
    "\n",
    "    print(\"++++++++++++++++ Funcion ingresada ++++++++++++++++\")\n",
    "    display(funcion_original)\n",
    "\n",
    "    T = abs(menor_limite - mayor_limite)\n",
    "    ao, an, bn = hallar_coeficientes(funcion_original, menor_limite, mayor_limite)\n",
    "    w = (2 * sp.pi) / T\n",
    "    nmax = 15\n",
    "    funcion_Fourier = ao/2 + sp.summation(an*sp.cos(n*w*t) + bn*sp.sin(n*w*t), (n, 1, nmax))\n",
    "\n",
    "    #display(funcion_Fourier)\n",
    "    graficar_funciones(menor_limite, mayor_limite, 120, funcion_original, funcion_Fourier)\n",
    "\n",
    "def proceso_extensiones_par_o_impar():\n",
    "    t = sp.symbols('t')\n",
    "     \n",
    "    esPar = input(\"Ingrese 0 si desea la extencion impar y 1 si desea la extencion par\")\n",
    "    #funcion_original, menor_limite, mayor_limite = ingresar_funcion_a_trozos()\n",
    "    \n",
    "    funcion_original=sp.Piecewise((1, (t >= -2.0) & (t <= -1)), (t, (t >= -1.0) & (t <= 0)))#(-4*t - 2, (t >= -3.0) & (t <= -2)), \n",
    "\n",
    "    menor_limite = -2\n",
    "    mayor_limite = 0\n",
    "    \n",
    "    print(\"++++++++++++++++ Funcion ingresada ++++++++++++++++\")\n",
    "    display(funcion_original)\n",
    "\n",
    "    funcion_original, menor_limite, mayor_limite = generar_funcion_a_trozos_par_o_impar(funcion_original, menor_limite, mayor_limite, esPar)\n",
    "    print(\"++++++++++++++++ Funcion generada ++++++++++++++++\")\n",
    "    display(funcion_original)\n",
    "\n",
    "    serie_Fourier = hallar_serie_Fourier(funcion_original, menor_limite, mayor_limite, 12)\n",
    "    graficar_funciones(menor_limite, mayor_limite, 100, funcion_original, serie_Fourier)\n",
    "\n",
    "def proceso_extensiones_media_onda():\n",
    "    t = sp.symbols('t')\n",
    "\n",
    "    # funcion_original, menor_limite, mayor_limite = ingresar_funcion_a_trozos()\n",
    "    \n",
    "    #funcion_original=sp.Piecewise((1, (t >= -2.0) & (t <= -1)), (t, (t >= -1.0) & (t <= 0)))#(-4*t - 2, (t >= -3.0) & (t <= -2)), \n",
    "\n",
    "    funcion_original=sp.Piecewise((1, (t <= 2.0) & (t >= 1)), (-t, (t <= 1.0) & (t >= -1)))#(-4*t - 2, (t > -3.0) & (t < -2)), \n",
    "\n",
    "    menor_limite = -1\n",
    "    mayor_limite = 2\n",
    "\n",
    "    print(\"++++++++++++++++ Funcion ingresada ++++++++++++++++\")\n",
    "    display(funcion_original)\n",
    "    \n",
    "    funcion_original, menor_limite, mayor_limite = generar_funcion_a_trozos_media_onda(funcion_original, menor_limite, mayor_limite)\n",
    "\n",
    "\n",
    "    print(\"++++++++++++++++ Funcion de media onda ++++++++++++++++\")\n",
    "    print(\"de\", menor_limite, \" a \", mayor_limite)\n",
    "    display(funcion_original)\n",
    "\n",
    "    serie_Fourier = hallar_serie_Fourier(funcion_original, menor_limite, mayor_limite, 12)\n",
    "    graficar_funciones(menor_limite-3, mayor_limite+3, 100, funcion_original, serie_Fourier)\n",
    "\n",
    "def proceso_extensiones_cuarto_de_onda():\n",
    "    t = sp.symbols('t')\n",
    "\n",
    "    esPar = input(\"Ingrese 0 si desea la extencion de cuarto de onda impar y 1 si desea la extencion de cuarto de onda  par\")\n",
    "\n",
    "    # funcion_original, menor_limite, mayor_limite = ingresar_funcion_a_trozos()\n",
    "    \n",
    "    funcion_original=sp.Piecewise((t+1, (t > -2.0) & (t < -1)),(1, (t > -1) & (t < 0)) )#, , (t, (t > -1.0) & (t < 0))\n",
    " \n",
    "    menor_limite = -2\n",
    "    mayor_limite = 0\n",
    "    \n",
    "    print(\"++++++++++++++++ Funcion ingresada ++++++++++++++++\")\n",
    "    display(funcion_original)\n",
    "\n",
    "    funcion_cuarto_de_onda, menor_limite, mayor_limite = generar_funcion_a_trozos_cuarto_de_onda(funcion_original, menor_limite, mayor_limite,esPar)\n",
    "\n",
    "    print(\"++++++++++++++++ Funcion de cuarto de onda ++++++++++++++++\")\n",
    "    display(funcion_cuarto_de_onda)\n",
    "\n",
    "    serie_Fourier = hallar_serie_Fourier(funcion_cuarto_de_onda, menor_limite, mayor_limite, 15)\n",
    "    graficar_funciones(menor_limite, mayor_limite, 100, funcion_cuarto_de_onda, serie_Fourier)\n",
    "\n",
    "def proceso_espctros_discretos():\n",
    "    t = sp.symbols('t')\n",
    "    n = sp.symbols('n')\n",
    "    # funcion_original, menor_limite, mayor_limite = ingresar_funcion_a_trozos()\n",
    "\n",
    "    funcion_original=sp.Piecewise((-0.5*t, (t > 0) & (t < 1)),(0.4*(t**2), (t > 1) & (t < 2)))\n",
    "\n",
    "    menor_limite = 0\n",
    "    mayor_limite = 2\n",
    "\n",
    "    print(\"++++++++++++++++ Funcion ingresada ++++++++++++++++\")\n",
    "    display(funcion_original)\n",
    "\n",
    "    Co,Cn, Cn_real, Cn_imag= hallar_coeficientes_espectros_discretos(funcion_original,menor_limite,mayor_limite)\n",
    "\n",
    "    funcion2 = sp.lambdify(n, Cn_real, 'numpy')\n",
    "    Cn_real = aplicar_equivalencias(Cn_real)\n",
    "    Cn_imag = aplicar_equivalencias(Cn_imag)\n",
    "\n",
    "    display(\"Co\", Co)\n",
    "    display(\"Cn\", Cn)\n",
    "\n",
    "    display(\"Cn_real\", aplicar_equivalencias(Cn_real))\n",
    "    display(\"Cn_imag\", aplicar_equivalencias(Cn_imag))\n",
    "\n",
    "    graficar_discretos_espectro_magnitud_fase(-6, 6, 13, Cn_real, Cn_imag, Co)\n",
    "\n",
    "if __name__ == \"__main__\":\n",
    "    #proceso_basico()\n",
    "    #proceso_extensiones_par_o_impar()\n",
    "    #proceso_extensiones_media_onda()\n",
    "    #proceso_extensiones_cuarto_de_onda()\n",
    "    proceso_espctros_discretos()\n"
   ]
  },
  {
   "cell_type": "code",
   "execution_count": null,
   "metadata": {},
   "outputs": [],
   "source": []
  }
 ],
 "metadata": {
  "kernelspec": {
   "display_name": "Python 3",
   "language": "python",
   "name": "python3"
  },
  "language_info": {
   "codemirror_mode": {
    "name": "ipython",
    "version": 3
   },
   "file_extension": ".py",
   "mimetype": "text/x-python",
   "name": "python",
   "nbconvert_exporter": "python",
   "pygments_lexer": "ipython3",
   "version": "3.11.9"
  }
 },
 "nbformat": 4,
 "nbformat_minor": 2
}
